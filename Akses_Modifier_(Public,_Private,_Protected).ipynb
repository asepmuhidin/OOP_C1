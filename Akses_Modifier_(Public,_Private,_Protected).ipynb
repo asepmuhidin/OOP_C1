{
  "nbformat": 4,
  "nbformat_minor": 0,
  "metadata": {
    "colab": {
      "provenance": [],
      "authorship_tag": "ABX9TyN/CGefsinULhN1BEm84/8t",
      "include_colab_link": true
    },
    "kernelspec": {
      "name": "python3",
      "display_name": "Python 3"
    },
    "language_info": {
      "name": "python"
    }
  },
  "cells": [
    {
      "cell_type": "markdown",
      "metadata": {
        "id": "view-in-github",
        "colab_type": "text"
      },
      "source": [
        "<a href=\"https://colab.research.google.com/github/asepmuhidin/OOP_C1/blob/main/Akses_Modifier_(Public%2C_Private%2C_Protected).ipynb\" target=\"_parent\"><img src=\"https://colab.research.google.com/assets/colab-badge.svg\" alt=\"Open In Colab\"/></a>"
      ]
    },
    {
      "cell_type": "markdown",
      "source": [
        "# Akses Modifier (Public, Private, Protected)"
      ],
      "metadata": {
        "id": "y2-rv6mNMDyC"
      }
    },
    {
      "cell_type": "markdown",
      "source": [
        "## Public"
      ],
      "metadata": {
        "id": "NErRJK4AMFw3"
      }
    },
    {
      "cell_type": "code",
      "source": [
        "class Mahasiswa:\n",
        "  def __init__(self,nim,nama):\n",
        "    self.nim=nim\n",
        "    self.nama=nama\n",
        "\n",
        "  def sayHello(self):\n",
        "    print(f\"Hallo...{self.nama}\")"
      ],
      "metadata": {
        "id": "99PEZhg8MUyD"
      },
      "execution_count": 1,
      "outputs": []
    },
    {
      "cell_type": "code",
      "source": [
        "mhs1=Mahasiswa(\"123\",\"Alfiah\")\n",
        "print(f\"Halo nama saya {mhs1.nama}\")"
      ],
      "metadata": {
        "colab": {
          "base_uri": "https://localhost:8080/"
        },
        "id": "9KQqgpoJMoGr",
        "outputId": "6da2c110-7e62-4d9f-c337-594272346eba"
      },
      "execution_count": 2,
      "outputs": [
        {
          "output_type": "stream",
          "name": "stdout",
          "text": [
            "Halo nama saya Alfiah\n"
          ]
        }
      ]
    },
    {
      "cell_type": "code",
      "source": [
        "#Akse method public\n",
        "mhs1.sayHello()"
      ],
      "metadata": {
        "colab": {
          "base_uri": "https://localhost:8080/"
        },
        "id": "qnKat24YM_bH",
        "outputId": "05958c12-2d15-453d-a5ff-46ef18c16d81"
      },
      "execution_count": 3,
      "outputs": [
        {
          "output_type": "stream",
          "name": "stdout",
          "text": [
            "Hallo...Alfiah\n"
          ]
        }
      ]
    },
    {
      "cell_type": "markdown",
      "source": [
        "## Protected"
      ],
      "metadata": {
        "id": "bbPUQyyTMHyk"
      }
    },
    {
      "cell_type": "code",
      "source": [
        "class Mahasiswa:\n",
        "  def __init__(self,nim,nama):\n",
        "    self._nim=nim\n",
        "    self._nama=nama\n",
        "\n",
        "  def _sayHello(self):\n",
        "    print(f\"Hallo...{self._nama}\")"
      ],
      "metadata": {
        "id": "VprR7mpJNH9v"
      },
      "execution_count": 4,
      "outputs": []
    },
    {
      "cell_type": "code",
      "source": [
        "mhs1=Mahasiswa(\"123\",\"Alfiah\")\n",
        "#Akses attribute/method protected (TIDAK DIANJURKAN)\n",
        "print(f\"Halo nama saya {mhs1._nama}\")\n",
        "mhs1._sayHello()"
      ],
      "metadata": {
        "colab": {
          "base_uri": "https://localhost:8080/"
        },
        "id": "jz5D24-CNZ_P",
        "outputId": "a56c43c2-8add-47fd-f330-2b836f7312de"
      },
      "execution_count": 6,
      "outputs": [
        {
          "output_type": "stream",
          "name": "stdout",
          "text": [
            "Halo nama saya Alfiah\n",
            "Hallo...Alfiah\n"
          ]
        }
      ]
    },
    {
      "cell_type": "markdown",
      "source": [
        "## Private"
      ],
      "metadata": {
        "id": "csQ0bQvvMKxs"
      }
    },
    {
      "cell_type": "code",
      "source": [
        "class Mahasiswa:\n",
        "  def __init__(self,nim,nama):\n",
        "    self.__nim=nim\n",
        "    self.__nama=nama\n",
        "\n",
        "  def __sayHello(self):\n",
        "    print(f\"Hallo...{self.__nama}\")"
      ],
      "metadata": {
        "id": "DYbRQ2U6Q3uN"
      },
      "execution_count": 10,
      "outputs": []
    },
    {
      "cell_type": "code",
      "source": [
        "mhs1=Mahasiswa(\"123\",\"Alfiah\")\n",
        "#Akses attribute/method private\n",
        "print(f\"Halo nama saya {mhs1.__nama}\")\n",
        "mhs1.__sayHello()"
      ],
      "metadata": {
        "colab": {
          "base_uri": "https://localhost:8080/",
          "height": 193
        },
        "id": "wgY-PR2HRA_l",
        "outputId": "59bba63d-ff74-48f5-cb78-a632d462a235"
      },
      "execution_count": 11,
      "outputs": [
        {
          "output_type": "error",
          "ename": "AttributeError",
          "evalue": "'Mahasiswa' object has no attribute '__nama'",
          "traceback": [
            "\u001b[0;31m---------------------------------------------------------------------------\u001b[0m",
            "\u001b[0;31mAttributeError\u001b[0m                            Traceback (most recent call last)",
            "\u001b[0;32m/tmp/ipython-input-4281285558.py\u001b[0m in \u001b[0;36m<cell line: 0>\u001b[0;34m()\u001b[0m\n\u001b[1;32m      1\u001b[0m \u001b[0mmhs1\u001b[0m\u001b[0;34m=\u001b[0m\u001b[0mMahasiswa\u001b[0m\u001b[0;34m(\u001b[0m\u001b[0;34m\"123\"\u001b[0m\u001b[0;34m,\u001b[0m\u001b[0;34m\"Alfiah\"\u001b[0m\u001b[0;34m)\u001b[0m\u001b[0;34m\u001b[0m\u001b[0;34m\u001b[0m\u001b[0m\n\u001b[1;32m      2\u001b[0m \u001b[0;31m#Akses attribute/method private\u001b[0m\u001b[0;34m\u001b[0m\u001b[0;34m\u001b[0m\u001b[0m\n\u001b[0;32m----> 3\u001b[0;31m \u001b[0mprint\u001b[0m\u001b[0;34m(\u001b[0m\u001b[0;34mf\"Halo nama saya {mhs1.__nama}\"\u001b[0m\u001b[0;34m)\u001b[0m\u001b[0;34m\u001b[0m\u001b[0;34m\u001b[0m\u001b[0m\n\u001b[0m\u001b[1;32m      4\u001b[0m \u001b[0mmhs1\u001b[0m\u001b[0;34m.\u001b[0m\u001b[0m__sayHello\u001b[0m\u001b[0;34m(\u001b[0m\u001b[0;34m)\u001b[0m\u001b[0;34m\u001b[0m\u001b[0;34m\u001b[0m\u001b[0m\n",
            "\u001b[0;31mAttributeError\u001b[0m: 'Mahasiswa' object has no attribute '__nama'"
          ]
        }
      ]
    },
    {
      "cell_type": "code",
      "source": [
        "#Sebenarnya kita masih bisa mengakses atrribut/method private\n",
        "#dengan cara name mangling, atruannya adalah :\n",
        "#nama_objek._namaKelas__namaAtribut/method\n",
        "print(f\"Halo nama saya {mhs1._Mahasiswa__nama}\")\n",
        "mhs1._Mahasiswa__sayHello()"
      ],
      "metadata": {
        "colab": {
          "base_uri": "https://localhost:8080/"
        },
        "id": "VZgSmaNnRScg",
        "outputId": "187b353d-011a-4f3e-ba8e-424f622efe1c"
      },
      "execution_count": 12,
      "outputs": [
        {
          "output_type": "stream",
          "name": "stdout",
          "text": [
            "Halo nama saya Alfiah\n",
            "Hallo...Alfiah\n"
          ]
        }
      ]
    },
    {
      "cell_type": "markdown",
      "source": [
        "# Getter & Setter"
      ],
      "metadata": {
        "id": "mBaMv2xEMO4t"
      }
    },
    {
      "cell_type": "code",
      "source": [
        "class Mahasiswa:\n",
        "  def __init__(self,nim,nama):\n",
        "    self.__nim=nim\n",
        "    self.__nama=nama\n",
        "\n",
        "  #Getter nim\n",
        "  def get_nim(self):\n",
        "    return self.__nim\n",
        "\n",
        "  #Setter nim\n",
        "  def set_nim(self,value):\n",
        "    self.__nim=value\n",
        "\n",
        "  #Getter nama\n",
        "  def get_nama(self):\n",
        "    return self.__nama\n",
        "\n",
        "  #Setter nama\n",
        "  def set_nama(self,value):\n",
        "    self.__nama=value\n",
        "\n",
        "  def __sayHello(self):\n",
        "    print(f\"Hallo...{self.__nama}\")"
      ],
      "metadata": {
        "id": "csFX6LY6MNTN"
      },
      "execution_count": 13,
      "outputs": []
    },
    {
      "cell_type": "code",
      "execution_count": 19,
      "metadata": {
        "colab": {
          "base_uri": "https://localhost:8080/"
        },
        "id": "QY2A5FflMBy5",
        "outputId": "f3229190-4ab5-4236-e39c-495a9b80cb40"
      },
      "outputs": [
        {
          "output_type": "stream",
          "name": "stdout",
          "text": [
            "Haloo Dimas\n",
            "Haloo Aris Maulana\n"
          ]
        }
      ],
      "source": [
        "mhs1=Mahasiswa(\"111\",\"Dimas\")\n",
        "print(f\"Haloo {mhs1.get_nama()}\")\n",
        "\n",
        "mhs1.set_nama(\"Aris Maulana\")\n",
        "print(f\"Haloo {mhs1.get_nama()}\")"
      ]
    },
    {
      "cell_type": "markdown",
      "source": [
        "## Penulisan Property pada Python"
      ],
      "metadata": {
        "id": "6uACaGSdU5HP"
      }
    },
    {
      "cell_type": "code",
      "source": [
        "class Mahasiswa:\n",
        "  def __init__(self,nim,nama):\n",
        "    self.__nim=nim\n",
        "    self.__nama=nama\n",
        "\n",
        "  @property\n",
        "  def nim(self):\n",
        "    return self.__nim\n",
        "\n",
        "  @nim.setter\n",
        "  def nim(self,value):\n",
        "    self.__nim=value"
      ],
      "metadata": {
        "id": "cnODwH3TVZbs"
      },
      "execution_count": 29,
      "outputs": []
    },
    {
      "cell_type": "code",
      "source": [
        "mhs1=Mahasiswa(\"123\",\"Doni\")\n",
        "print(f\"Haloo nim saya {mhs1.nim}\")"
      ],
      "metadata": {
        "colab": {
          "base_uri": "https://localhost:8080/"
        },
        "id": "_4-eq-MBVmRD",
        "outputId": "54bfa916-bab1-4865-e878-a6e4e5c91228"
      },
      "execution_count": 30,
      "outputs": [
        {
          "output_type": "stream",
          "name": "stdout",
          "text": [
            "Haloo nim saya 123\n"
          ]
        }
      ]
    },
    {
      "cell_type": "code",
      "source": [
        "mhs1.nim(\"Aris\")"
      ],
      "metadata": {
        "colab": {
          "base_uri": "https://localhost:8080/",
          "height": 141
        },
        "id": "Yx5LcrEdWeIT",
        "outputId": "c8d45d2d-9add-4d2b-f4c7-17768990bc63"
      },
      "execution_count": 27,
      "outputs": [
        {
          "output_type": "error",
          "ename": "TypeError",
          "evalue": "'str' object is not callable",
          "traceback": [
            "\u001b[0;31m---------------------------------------------------------------------------\u001b[0m",
            "\u001b[0;31mTypeError\u001b[0m                                 Traceback (most recent call last)",
            "\u001b[0;32m/tmp/ipython-input-4087684476.py\u001b[0m in \u001b[0;36m<cell line: 0>\u001b[0;34m()\u001b[0m\n\u001b[0;32m----> 1\u001b[0;31m \u001b[0mmhs1\u001b[0m\u001b[0;34m.\u001b[0m\u001b[0mnim\u001b[0m\u001b[0;34m(\u001b[0m\u001b[0;34m\"Aris\"\u001b[0m\u001b[0;34m)\u001b[0m\u001b[0;34m\u001b[0m\u001b[0;34m\u001b[0m\u001b[0m\n\u001b[0m",
            "\u001b[0;31mTypeError\u001b[0m: 'str' object is not callable"
          ]
        }
      ]
    },
    {
      "cell_type": "code",
      "source": [
        "mhs1.nim=\"222\"\n",
        "print(f\"Haloo nim saya {mhs1.nim}\")"
      ],
      "metadata": {
        "colab": {
          "base_uri": "https://localhost:8080/"
        },
        "id": "GFicVWt6Wmur",
        "outputId": "2f7e70da-8685-4683-d298-2d857c2999e1"
      },
      "execution_count": 32,
      "outputs": [
        {
          "output_type": "stream",
          "name": "stdout",
          "text": [
            "Haloo nim saya 222\n"
          ]
        }
      ]
    }
  ]
}