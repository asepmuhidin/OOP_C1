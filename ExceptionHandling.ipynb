{
  "nbformat": 4,
  "nbformat_minor": 0,
  "metadata": {
    "colab": {
      "provenance": [],
      "authorship_tag": "ABX9TyN/RAa6fNO7oom9C83eW5it",
      "include_colab_link": true
    },
    "kernelspec": {
      "name": "python3",
      "display_name": "Python 3"
    },
    "language_info": {
      "name": "python"
    }
  },
  "cells": [
    {
      "cell_type": "markdown",
      "metadata": {
        "id": "view-in-github",
        "colab_type": "text"
      },
      "source": [
        "<a href=\"https://colab.research.google.com/github/asepmuhidin/OOP_C1/blob/main/ExceptionHandling.ipynb\" target=\"_parent\"><img src=\"https://colab.research.google.com/assets/colab-badge.svg\" alt=\"Open In Colab\"/></a>"
      ]
    },
    {
      "cell_type": "code",
      "execution_count": 13,
      "metadata": {
        "id": "0-1S1VmOXAj6"
      },
      "outputs": [],
      "source": [
        "class AccountBank:\n",
        "  def __init__(self,norek=\"dafa\",saldo=0):\n",
        "    self.norek=norek\n",
        "    self.saldo=saldo\n",
        "\n",
        "  def transfer(self,target_account,amount):\n",
        "    if amount > self.saldo:\n",
        "      raise ValueError(\"Saldo anda tidak cukup..\")\n",
        "\n",
        "    self.saldo -=amount\n",
        "    target_account.saldo +=amount"
      ]
    },
    {
      "cell_type": "code",
      "source": [
        "bca1=AccountBank()\n",
        "bca2=AccountBank(\"Wulan\",1000000)\n",
        "print(f\"Rekening {bca1.norek} saldo : Rp.{bca1.saldo:,}\")\n",
        "print(f\"Rekening {bca2.norek} saldo : Rp.{bca2.saldo:,}\")"
      ],
      "metadata": {
        "colab": {
          "base_uri": "https://localhost:8080/"
        },
        "id": "lJ4fdgURZI9K",
        "outputId": "dd2787c2-63f8-4c23-ba49-50ce7fe6f3b3"
      },
      "execution_count": 21,
      "outputs": [
        {
          "output_type": "stream",
          "name": "stdout",
          "text": [
            "Rekening dafa saldo : Rp.0\n",
            "Rekening Wulan saldo : Rp.1,000,000\n"
          ]
        }
      ]
    },
    {
      "cell_type": "code",
      "source": [
        "amount_tf=5000000\n",
        "try:\n",
        "  bca1.transfer(bca2,amount_tf)\n",
        "except ValueError as e:\n",
        "  print(e)\n",
        "  print(f\"Saldo anda sekarang Rp.{bca1.saldo:,}\")"
      ],
      "metadata": {
        "colab": {
          "base_uri": "https://localhost:8080/"
        },
        "id": "VfRUHIWTch7m",
        "outputId": "d5fc5546-9319-4eb6-870f-772956b0691c"
      },
      "execution_count": 17,
      "outputs": [
        {
          "output_type": "stream",
          "name": "stdout",
          "text": [
            "Saldo anda tidak cukup..\n",
            "Saldo anda sekarang Rp.0\n"
          ]
        }
      ]
    },
    {
      "cell_type": "code",
      "source": [
        "amount_tf=100000\n",
        "try:\n",
        "  bca2.transfer(bca1,amount_tf)\n",
        "  print(f\"Transfer Rp.{amount_tf:,} dari {bca2.norek} ke {bca1.norek}\")\n",
        "  print(f\"Saldo {bca2.norek} sekarang Rp.{bca2.saldo:,}\")\n",
        "  print(f\"Saldo {bca1.norek} sekarang Rp.{bca1.saldo:,}\")\n",
        "except ValueError as e:\n",
        "  print(e)"
      ],
      "metadata": {
        "colab": {
          "base_uri": "https://localhost:8080/"
        },
        "id": "on89YrWwdu9C",
        "outputId": "08010836-4f8e-4fc1-9636-e388fd47ceb7"
      },
      "execution_count": 22,
      "outputs": [
        {
          "output_type": "stream",
          "name": "stdout",
          "text": [
            "Transfer Rp.100,000 dari Wulan ke dafa\n",
            "Saldo Wulan sekarang Rp.900,000\n",
            "Saldo dafa sekarang Rp.100,000\n"
          ]
        }
      ]
    }
  ]
}