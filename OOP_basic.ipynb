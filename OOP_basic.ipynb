{
  "nbformat": 4,
  "nbformat_minor": 0,
  "metadata": {
    "colab": {
      "provenance": [],
      "authorship_tag": "ABX9TyMI321kQkpqbmYTHwzEDhnA",
      "include_colab_link": true
    },
    "kernelspec": {
      "name": "python3",
      "display_name": "Python 3"
    },
    "language_info": {
      "name": "python"
    }
  },
  "cells": [
    {
      "cell_type": "markdown",
      "metadata": {
        "id": "view-in-github",
        "colab_type": "text"
      },
      "source": [
        "<a href=\"https://colab.research.google.com/github/asepmuhidin/OOP_C1/blob/main/OOP_basic.ipynb\" target=\"_parent\"><img src=\"https://colab.research.google.com/assets/colab-badge.svg\" alt=\"Open In Colab\"/></a>"
      ]
    },
    {
      "cell_type": "code",
      "execution_count": 1,
      "metadata": {
        "id": "hoECAJ1ZSr_-"
      },
      "outputs": [],
      "source": [
        "def sayHello():\n",
        "  print(\"Hello saya arya\")\n",
        "\n",
        "def sayMessage():\n",
        "  return \"Hallo mau pesan apa?\""
      ]
    },
    {
      "cell_type": "code",
      "source": [
        "pesan=sayHello()"
      ],
      "metadata": {
        "colab": {
          "base_uri": "https://localhost:8080/"
        },
        "id": "PuS8EKfnTH-F",
        "outputId": "81ad5d58-7ef4-4ee4-cd2e-864496937e2e"
      },
      "execution_count": 5,
      "outputs": [
        {
          "output_type": "stream",
          "name": "stdout",
          "text": [
            "Hello saya arya\n"
          ]
        }
      ]
    },
    {
      "cell_type": "code",
      "source": [
        "pesan=sayMessage()\n",
        "print(pesan)"
      ],
      "metadata": {
        "colab": {
          "base_uri": "https://localhost:8080/"
        },
        "id": "hVrEuplQTLww",
        "outputId": "98551f29-1c42-406d-99d8-6a0f26c218ac"
      },
      "execution_count": 7,
      "outputs": [
        {
          "output_type": "stream",
          "name": "stdout",
          "text": [
            "Hallo mau pesan apa?\n"
          ]
        }
      ]
    },
    {
      "cell_type": "code",
      "source": [
        "class Mahasiswa:\n",
        "  def __init__(self,nim,nama,jurusan):\n",
        "    self.nim=nim\n",
        "    self.nama=nama\n",
        "    self.jurusan=jurusan\n",
        "\n",
        "  def sayHello(self):\n",
        "    #print(\"Assalamualaikumm..\")\n",
        "    return\"Assalamualaikumm..\"\n"
      ],
      "metadata": {
        "id": "lB__i0BHUP7_"
      },
      "execution_count": 20,
      "outputs": []
    },
    {
      "cell_type": "code",
      "source": [
        "Mahasiswa"
      ],
      "metadata": {
        "colab": {
          "base_uri": "https://localhost:8080/",
          "height": 104
        },
        "id": "4gdHidluUmuz",
        "outputId": "b165f69c-87e0-4df3-f061-57ae0eb1b87d"
      },
      "execution_count": 9,
      "outputs": [
        {
          "output_type": "execute_result",
          "data": {
            "text/plain": [
              "__main__.Mahasiswa"
            ],
            "text/html": [
              "<div style=\"max-width:800px; border: 1px solid var(--colab-border-color);\"><style>\n",
              "      pre.function-repr-contents {\n",
              "        overflow-x: auto;\n",
              "        padding: 8px 12px;\n",
              "        max-height: 500px;\n",
              "      }\n",
              "\n",
              "      pre.function-repr-contents.function-repr-contents-collapsed {\n",
              "        cursor: pointer;\n",
              "        max-height: 100px;\n",
              "      }\n",
              "    </style>\n",
              "    <pre style=\"white-space: initial; background:\n",
              "         var(--colab-secondary-surface-color); padding: 8px 12px;\n",
              "         border-bottom: 1px solid var(--colab-border-color);\"><b>Mahasiswa</b><br/>def __init__(nim, nama, jurusan)</pre><pre class=\"function-repr-contents function-repr-contents-collapsed\" style=\"\"><a class=\"filepath\" style=\"display:none\" href=\"#\"></a>&lt;no docstring&gt;</pre></div>"
            ]
          },
          "metadata": {},
          "execution_count": 9
        }
      ]
    },
    {
      "cell_type": "code",
      "source": [
        "mhs1=Mahasiswa(\"0001\",\"Adzan Takhyan\",\"TI\")"
      ],
      "metadata": {
        "id": "vvpiHTqbUqwa"
      },
      "execution_count": 21,
      "outputs": []
    },
    {
      "cell_type": "code",
      "source": [
        "#Akses properti pada object : nama_object.nama_property\n",
        "print(mhs1.nama)\n",
        "print(mhs1.nim)\n",
        "print(mhs1.jurusan)"
      ],
      "metadata": {
        "colab": {
          "base_uri": "https://localhost:8080/"
        },
        "id": "VTdLTU4IU4qb",
        "outputId": "91b4baa5-cb6d-40ca-c9c4-e4a47bf027b5"
      },
      "execution_count": 14,
      "outputs": [
        {
          "output_type": "stream",
          "name": "stdout",
          "text": [
            "Adzan Takhyan\n",
            "0001\n",
            "TI\n"
          ]
        }
      ]
    },
    {
      "cell_type": "code",
      "source": [
        "#Akses method pada object : nama_object.nama_method()\n",
        "mhs1.sayHello()"
      ],
      "metadata": {
        "colab": {
          "base_uri": "https://localhost:8080/"
        },
        "id": "mjPz9IgMVeII",
        "outputId": "5dc56047-d6b6-4bde-c687-0d385277f2b9"
      },
      "execution_count": 18,
      "outputs": [
        {
          "output_type": "stream",
          "name": "stdout",
          "text": [
            "Assalamualaikumm..\n"
          ]
        }
      ]
    },
    {
      "cell_type": "code",
      "source": [
        "print(f\"Halo saya {mhs1.nama} mengucapkan {mhs1.sayHello()}\")"
      ],
      "metadata": {
        "colab": {
          "base_uri": "https://localhost:8080/"
        },
        "id": "E2q7YlPXVt5X",
        "outputId": "7acd68a6-b014-487e-a982-29c96fdc483e"
      },
      "execution_count": 22,
      "outputs": [
        {
          "output_type": "stream",
          "name": "stdout",
          "text": [
            "Halo saya Adzan Takhyan mengucapkan Assalamualaikumm..\n"
          ]
        }
      ]
    }
  ]
}