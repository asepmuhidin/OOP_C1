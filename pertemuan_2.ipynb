{
  "nbformat": 4,
  "nbformat_minor": 0,
  "metadata": {
    "colab": {
      "provenance": [],
      "authorship_tag": "ABX9TyOWPgChjP2ZnCZEjswVFkVK",
      "include_colab_link": true
    },
    "kernelspec": {
      "name": "python3",
      "display_name": "Python 3"
    },
    "language_info": {
      "name": "python"
    }
  },
  "cells": [
    {
      "cell_type": "markdown",
      "metadata": {
        "id": "view-in-github",
        "colab_type": "text"
      },
      "source": [
        "<a href=\"https://colab.research.google.com/github/asepmuhidin/OOP_C1/blob/main/pertemuan_2.ipynb\" target=\"_parent\"><img src=\"https://colab.research.google.com/assets/colab-badge.svg\" alt=\"Open In Colab\"/></a>"
      ]
    },
    {
      "cell_type": "code",
      "execution_count": 16,
      "metadata": {
        "id": "Onof0TsaKG9l"
      },
      "outputs": [],
      "source": [
        "class Mahasiswa:\n",
        "  def __init__(self,nim,nama,prodi,nilai):\n",
        "    self.nim=nim\n",
        "    self.nama=nama\n",
        "    self.prodi=prodi\n",
        "    self.nilai=nilai\n",
        "    print(\"Method konstruktor dijalankan\")\n",
        "\n",
        "  def belajar(self):\n",
        "    print(f\"Halo nama {self.nama} sedang belajar\")\n",
        "\n",
        "  def ceklulus(self):\n",
        "    keterangan=\"\"\n",
        "    if self.nilai > 50:\n",
        "      keterangan=\"lulus\"\n",
        "    else:\n",
        "      keterangan=\"tidak lulus\"\n",
        "\n",
        "    print(f\"nama {self.nama} nilai anda {self.nilai} anda {keterangan}\")\n",
        "\n",
        "  def nilaiHuruf(self):\n",
        "    ket=\"\"\n",
        "    if self.nilai > 85:\n",
        "      ket=\"A\"\n",
        "    elif self.nilai > 75:\n",
        "      ket=\"B\"\n",
        "    elif self.nilai > 65:\n",
        "      ket=\"C\"\n",
        "    elif self.nilai > 55:\n",
        "      ket=\"D\"\n",
        "    else:\n",
        "      ket=\"E\"\n",
        "    return ket\n"
      ]
    },
    {
      "cell_type": "code",
      "source": [
        "mhs1=Mahasiswa(\"001\",\"Dafa\",\"TI\",80)"
      ],
      "metadata": {
        "colab": {
          "base_uri": "https://localhost:8080/"
        },
        "id": "t8fWaN9gLIzD",
        "outputId": "6c39d0ba-ee7f-44dd-dabb-3e58e95ab0fb"
      },
      "execution_count": 21,
      "outputs": [
        {
          "output_type": "stream",
          "name": "stdout",
          "text": [
            "Method konstruktor dijalankan\n"
          ]
        }
      ]
    },
    {
      "cell_type": "code",
      "source": [
        "mhs1.ceklulus()"
      ],
      "metadata": {
        "id": "f9UzHjCUNwEz",
        "outputId": "3ef13aa6-2945-4fb2-efe0-f5c167a39bc0",
        "colab": {
          "base_uri": "https://localhost:8080/"
        }
      },
      "execution_count": 22,
      "outputs": [
        {
          "output_type": "stream",
          "name": "stdout",
          "text": [
            "nama Dafa nilai anda 80 anda lulus\n"
          ]
        }
      ]
    },
    {
      "cell_type": "code",
      "source": [
        "nh=mhs1.nilaiHuruf()\n",
        "if nh==\"A\":\n",
        "  mutu=4\n",
        "elif nh==\"B\":\n",
        "  mutu=3\n",
        "elif nh==\"C\":\n",
        "  mutu=2\n",
        "elif nh==\"D\":\n",
        "  mutu=1\n",
        "else:\n",
        "  mutu=0\n",
        "\n",
        "print(f\"{mhs1.nama} nilai hurup anda {nh} dengan mutu {mutu}\")"
      ],
      "metadata": {
        "id": "Z77ZgYZrPlbS",
        "outputId": "de4db6ab-1a63-4b17-8764-006a845bc4e9",
        "colab": {
          "base_uri": "https://localhost:8080/"
        }
      },
      "execution_count": 23,
      "outputs": [
        {
          "output_type": "stream",
          "name": "stdout",
          "text": [
            "Dafa nilai hurup anda B dengan mutu 3\n"
          ]
        }
      ]
    },
    {
      "cell_type": "code",
      "source": [
        "mhs1.belajar()"
      ],
      "metadata": {
        "colab": {
          "base_uri": "https://localhost:8080/"
        },
        "id": "kAgnqgC-MPfD",
        "outputId": "e42da224-691f-4db7-9d3e-ca70dba2c7d1"
      },
      "execution_count": 8,
      "outputs": [
        {
          "output_type": "stream",
          "name": "stdout",
          "text": [
            "Halo nama Dafa sedang belajar\n"
          ]
        }
      ]
    },
    {
      "cell_type": "code",
      "source": [
        "import math\n",
        "class Perskuadrat:\n",
        "  def __init__(self,a,b,c):\n",
        "    self.a=a\n",
        "    self.b=b\n",
        "    self.c=c\n",
        "  print(\"Method konstruktor dijalankan\")\n",
        "\n",
        "  def det(self):\n",
        "    return self.b**2-4* self.a* self.c\n",
        "\n",
        "  def X1 (self):\n",
        "    if self.det()<0:\n",
        "      return \"Akar imajiner\"\n",
        "    else:\n",
        "      return (-self.b + math.sqrt(self.det()))/(2*self.a)\n",
        "\n",
        "  def X2 (self):\n",
        "    if self.det()<0:\n",
        "      return \"Akar imajiner\"\n",
        "    else:\n",
        "      return (-self.b - math.sqrt(self.det()))/(2*self.a)\n",
        "\n",
        "\n"
      ],
      "metadata": {
        "id": "YXdiZ5MlSi2b",
        "outputId": "20af35cf-e94c-4f0c-e6e7-3a43d1453a05",
        "colab": {
          "base_uri": "https://localhost:8080/"
        }
      },
      "execution_count": 29,
      "outputs": [
        {
          "output_type": "stream",
          "name": "stdout",
          "text": [
            "Method konstruktor dijalankan\n"
          ]
        }
      ]
    },
    {
      "cell_type": "code",
      "source": [
        "soal1=Perskuadrat(1,-1,-6)\n",
        "print(f\"Nilai Determinan = {soal1.det()}\")\n",
        "print(f\"Nilai x1 = {soal1.X1()}\")\n",
        "print(f\"nilai x2 = {soal1.X2()}\")"
      ],
      "metadata": {
        "id": "QGl3Y_3-WP7U",
        "outputId": "85bf9ec8-a632-46ff-901f-9ff58d550516",
        "colab": {
          "base_uri": "https://localhost:8080/"
        }
      },
      "execution_count": 27,
      "outputs": [
        {
          "output_type": "stream",
          "name": "stdout",
          "text": [
            "Nilai Determinan = 25\n",
            "Nilai x1 = 3.0\n",
            "nilai x2 = -2.0\n"
          ]
        }
      ]
    },
    {
      "cell_type": "code",
      "source": [
        "soal2=Perskuadrat(1,2,3)\n",
        "print(f\"Nilai Determinan = {soal2.det()}\")\n",
        "print(f\"Nilai x1 = {soal2.X1()}\")\n",
        "print(f\"nilai x2 = {soal2.X2()}\")"
      ],
      "metadata": {
        "id": "v6AD3Ck3XQre",
        "outputId": "f572105a-fe67-4b14-dc5c-1d93e361bb49",
        "colab": {
          "base_uri": "https://localhost:8080/"
        }
      },
      "execution_count": 30,
      "outputs": [
        {
          "output_type": "stream",
          "name": "stdout",
          "text": [
            "Nilai Determinan = -8\n",
            "Nilai x1 = Akar imajiner\n",
            "nilai x2 = Akar imajiner\n"
          ]
        }
      ]
    }
  ]
}