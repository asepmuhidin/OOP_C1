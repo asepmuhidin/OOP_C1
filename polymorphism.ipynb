{
  "nbformat": 4,
  "nbformat_minor": 0,
  "metadata": {
    "colab": {
      "provenance": [],
      "authorship_tag": "ABX9TyMqeqCWNeSHGy04blDGMaND",
      "include_colab_link": true
    },
    "kernelspec": {
      "name": "python3",
      "display_name": "Python 3"
    },
    "language_info": {
      "name": "python"
    }
  },
  "cells": [
    {
      "cell_type": "markdown",
      "metadata": {
        "id": "view-in-github",
        "colab_type": "text"
      },
      "source": [
        "<a href=\"https://colab.research.google.com/github/asepmuhidin/OOP_C1/blob/main/polymorphism.ipynb\" target=\"_parent\"><img src=\"https://colab.research.google.com/assets/colab-badge.svg\" alt=\"Open In Colab\"/></a>"
      ]
    },
    {
      "cell_type": "markdown",
      "source": [
        "# Polymorphism"
      ],
      "metadata": {
        "id": "1UwAx1fRXyi1"
      }
    },
    {
      "cell_type": "markdown",
      "source": [
        "## Override Method"
      ],
      "metadata": {
        "id": "s9q7KB6HX2OT"
      }
    },
    {
      "cell_type": "code",
      "execution_count": 1,
      "metadata": {
        "id": "G71v11zLVBH_"
      },
      "outputs": [],
      "source": [
        "class Hewan:\n",
        "  def __init__(self,nama):\n",
        "    self.nama=nama\n",
        "\n",
        "  def suara(self):\n",
        "    return \"hewan bersuara\""
      ]
    },
    {
      "cell_type": "code",
      "source": [
        "class Anjing(Hewan):\n",
        "  def suara(self):\n",
        "    return \"guk..guk..\"\n",
        "\n",
        "class Kucing(Hewan):\n",
        "  def suara(self):\n",
        "    return \"Meoonggg..\"\n",
        "\n",
        "class Sapi(Hewan):\n",
        "  def suara(self):\n",
        "    return \"Mooohhh..\""
      ],
      "metadata": {
        "id": "KN-_5b1hVcje"
      },
      "execution_count": 2,
      "outputs": []
    },
    {
      "cell_type": "code",
      "source": [
        "anjing=Anjing(\"Blacky\")\n",
        "kucing=Kucing(\"Caty\")\n",
        "sapi=Sapi(\"Dudu\")\n",
        "\n",
        "print(f\"Suara {anjing.nama} adalah {anjing.suara()}\")\n",
        "print(f\"Suara {kucing.nama} adalah {kucing.suara()}\")\n",
        "print(f\"Suara {sapi.nama} adalah {sapi.suara()}\")"
      ],
      "metadata": {
        "colab": {
          "base_uri": "https://localhost:8080/"
        },
        "id": "HhORZLxOV4GP",
        "outputId": "e8957511-ee36-4b21-c410-51cb0f8c7935"
      },
      "execution_count": 3,
      "outputs": [
        {
          "output_type": "stream",
          "name": "stdout",
          "text": [
            "Suara Blacky adalah guk..guk..\n",
            "Suara Caty adalah Meoonggg..\n",
            "Suara Dudu adalah Mooohhh..\n"
          ]
        }
      ]
    },
    {
      "cell_type": "code",
      "source": [
        "animals=[\n",
        "  Anjing(\"Buddy\"),\n",
        "  Kucing(\"Whiskers\"),\n",
        "  Sapi(\"Bessie\")\n",
        "]\n",
        "for animal in animals:\n",
        "  print(f\"Suara {animal.nama} adalah {animal.suara()}\")"
      ],
      "metadata": {
        "colab": {
          "base_uri": "https://localhost:8080/"
        },
        "id": "45RmFYxnWykz",
        "outputId": "383ea34e-3ab4-4ed5-89fc-c2d9f9f6f059"
      },
      "execution_count": 4,
      "outputs": [
        {
          "output_type": "stream",
          "name": "stdout",
          "text": [
            "Suara Buddy adalah guk..guk..\n",
            "Suara Whiskers adalah Meoonggg..\n",
            "Suara Bessie adalah Mooohhh..\n"
          ]
        }
      ]
    },
    {
      "cell_type": "markdown",
      "source": [
        "## Duck Typing"
      ],
      "metadata": {
        "id": "a-2e6OGjX_aR"
      }
    },
    {
      "cell_type": "code",
      "source": [
        "class Mobil:\n",
        "  def start(self):\n",
        "    return \"mesin mobil menyala\"\n",
        "class Motor:\n",
        "  def start(self):\n",
        "    return \"mesin motor menyala\"\n",
        "class Perahu:\n",
        "  def start(self):\n",
        "    return \"mesin perahu menyala\""
      ],
      "metadata": {
        "id": "kqBuZM2JYC7N"
      },
      "execution_count": 5,
      "outputs": []
    },
    {
      "cell_type": "code",
      "source": [
        "def tekan_tombol_start(kendaraan):\n",
        "  print(kendaraan.start())\n",
        "\n",
        "daftar_kendaraan=[Perahu(),Motor(),Mobil()]\n",
        "for kendaraan in daftar_kendaraan:\n",
        "  tekan_tombol_start(kendaraan)"
      ],
      "metadata": {
        "colab": {
          "base_uri": "https://localhost:8080/"
        },
        "id": "oNgNMf9rYVQl",
        "outputId": "255a0ad2-6693-4194-e220-93cc7d9c205a"
      },
      "execution_count": 7,
      "outputs": [
        {
          "output_type": "stream",
          "name": "stdout",
          "text": [
            "mesin perahu menyala\n",
            "mesin motor menyala\n",
            "mesin mobil menyala\n"
          ]
        }
      ]
    }
  ]
}